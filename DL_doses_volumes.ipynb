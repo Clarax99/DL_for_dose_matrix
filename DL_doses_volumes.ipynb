{
 "cells": [
  {
   "cell_type": "code",
   "execution_count": 145,
   "metadata": {},
   "outputs": [],
   "source": [
    "import torch\n",
    "import torch.nn as nn\n",
    "from torch.utils.data import DataLoader, Dataset\n",
    "from torchvision import datasets, transforms\n",
    "from torch.nn.functional import grid_sample\n",
    "import nibabel as nib\n",
    "import os\n",
    "from os.path import join\n",
    "import numpy as np\n",
    "import pandas as pd\n",
    "#from models.densenet import DenseNet\n",
    "from sklearn.metrics import balanced_accuracy_score, cohen_kappa_score, confusion_matrix,f1_score, ConfusionMatrixDisplay\n"
   ]
  },
  {
   "cell_type": "code",
   "execution_count": 146,
   "metadata": {},
   "outputs": [
    {
     "name": "stdout",
     "output_type": "stream",
     "text": [
      "cpu\n",
      "3939\n"
     ]
    }
   ],
   "source": [
    "# Setup device-agnostic code\n",
    "device = \"cuda\" if torch.cuda.is_available() else \"cpu\"\n",
    "print(device)\n",
    "\n",
    "#Path to data\n",
    "path_to_data = \"D:\\data\\dose_matrices_updated_25_01_2023\"\n",
    "print(len(os.listdir(join(path_to_data, \"nii\"))))\n",
    "\n",
    "#Config\n",
    "batch_size = 8"
   ]
  },
  {
   "cell_type": "code",
   "execution_count": 148,
   "metadata": {},
   "outputs": [],
   "source": [
    "class CustomDataset(Dataset):\n",
    "  def __init__(self, annotations_file, path_to_dir, min_card_age, \n",
    "               training=False, validation=False, transform=None, target_transform=None):\n",
    "    \n",
    "    assert min_card_age == 40 or min_card_age == 50\n",
    "\n",
    "    self.labels_csv = pd.read_csv(join(path_to_dir, annotations_file), sep=',')\n",
    "\n",
    "    if training:\n",
    "      self.img_labels = self.labels_csv[self.labels_csv[f'train_{min_card_age}'] == 1]\n",
    "    elif validation:\n",
    "      self.img_labels = self.labels_csv[self.labels_csv[f'val_{min_card_age}'] == 1]\n",
    "\n",
    "    self.path_to_dir = path_to_dir\n",
    "    self.img_dir = join(self.path_to_dir, 'nii')\n",
    "\n",
    "    self.transform = transform\n",
    "    self.target_transform = target_transform\n",
    "\n",
    "  def __len__(self):\n",
    "    return len(self.img_labels)\n",
    "\n",
    "  def __getitem__(self, idx):\n",
    "\n",
    "    img_path = os.path.join(self.img_dir, self.img_labels.iloc[idx][\"file_name\"])\n",
    "    image = np.squeeze(np.asanyarray(nib.load(img_path).dataobj))\n",
    "    image_cropped = image[2:66, 3:67, 3:67]\n",
    "\n",
    "    label = self.img_labels.iloc[idx]['Pathologie_cardiaque_3_new']\n",
    "\n",
    "    if self.transform:\n",
    "        image = self.transform(image)\n",
    "    if self.target_transform:\n",
    "        label = self.target_transform(label)\n",
    "\n",
    "    return image_cropped, label\n"
   ]
  },
  {
   "cell_type": "code",
   "execution_count": 161,
   "metadata": {},
   "outputs": [
    {
     "name": "stdout",
     "output_type": "stream",
     "text": [
      "723 181\n",
      "tensor([0, 0, 0, 0, 0, 0, 0, 1])\n"
     ]
    }
   ],
   "source": [
    "training_data = CustomDataset(\"labels.csv\", path_to_data, 40, training = True)\n",
    "val_data = CustomDataset(\"labels.csv\", path_to_data, 40, validation = True)\n",
    "\n",
    "print(len(training_data), len(val_data))\n",
    "\n",
    "train_dataloader = DataLoader(training_data, batch_size, shuffle=True, drop_last=True)\n",
    "val_dataloader = DataLoader(val_data, batch_size, shuffle=True, drop_last=True)\n",
    "\n",
    "a, b = next(iter(val_dataloader))\n",
    "print(b)\n",
    "\n",
    "# Load NN\n",
    "\n",
    "#net = DenseNet(num_classes=2)"
   ]
  },
  {
   "cell_type": "code",
   "execution_count": 164,
   "metadata": {},
   "outputs": [
    {
     "name": "stdout",
     "output_type": "stream",
     "text": [
      "22/723 patients avec une maladie cardiaque dans le training set (3.0 %)\n",
      "5/181 patients avec une maladie cardiaque dans le validation set (3.0 %)\n"
     ]
    }
   ],
   "source": [
    "print(f'{training_data.img_labels.Pathologie_cardiaque_3_new.sum()}/{len(training_data)} patients avec une maladie cardiaque dans le training set ({np.around(training_data.img_labels.Pathologie_cardiaque_3_new.mean(), 2)*100} %)')\n",
    "print(f'{val_data.img_labels.Pathologie_cardiaque_3_new.sum()}/{len(val_data)} patients avec une maladie cardiaque dans le validation set ({np.around(val_data.img_labels.Pathologie_cardiaque_3_new.mean(), 2)*100} %)')"
   ]
  },
  {
   "cell_type": "code",
   "execution_count": 131,
   "metadata": {},
   "outputs": [],
   "source": [
    "class Net(nn.Module):\n",
    "    def __init__(self, batch_size, hidden_units=200):\n",
    "        super(Net, self).__init__()\n",
    "        self.flatten = nn.Flatten()\n",
    "        self.fc1 = nn.Linear(64*64*64, hidden_units)\n",
    "        self.fc2 = nn.Linear(hidden_units, hidden_units)\n",
    "        self.fc3 = nn.Linear(hidden_units, 2)\n",
    "\n",
    "    def forward(self, x):\n",
    "        x = self.flatten(x)\n",
    "        x = self.fc1(x)\n",
    "        #x = nn.ReLU()(x)\n",
    "        #x = self.fc2(x)\n",
    "        x = nn.ReLU()(x)\n",
    "        x = self.fc3(x)\n",
    "        return x.float()"
   ]
  },
  {
   "cell_type": "code",
   "execution_count": 132,
   "metadata": {},
   "outputs": [],
   "source": [
    "model = Net(batch_size)"
   ]
  },
  {
   "cell_type": "code",
   "execution_count": 133,
   "metadata": {},
   "outputs": [],
   "source": [
    "def test_our_model(val_dataloader, model):  # no arguments, literally all our variable our globals (not great but it's a notebook)\n",
    "    # Put model in eval mode\n",
    "    model.eval()  # to remove stuff like dropout that's only going to be in the training part\n",
    "\n",
    "    # Setup test accuracy value\n",
    "    test_acc = 0\n",
    "\n",
    "    # Turn on inference context manager\n",
    "    with torch.no_grad():\n",
    "        # Loop through DataLoader batches\n",
    "        for X_test, y_test in val_dataloader:  # majuscule à X car c'est une \"matrice\", et y un entier\n",
    "            # 1. Forward pass\n",
    "            # print(X_test.view(-1, 64*64*3).shape)\n",
    "            # break\n",
    "            #print(X_test.shape)\n",
    "            #X_flatten = X_test.flatten()\n",
    "            model_output = model(X_test.float())\n",
    "\n",
    "            # 2. Calculate and accumulate accuracy\n",
    "            test_pred_label = model_output.argmax()\n",
    "            test_acc += (test_pred_label == y_test).sum()  # True == 1, False == 0\n",
    "\n",
    "    # Adjust metrics to get average loss and accuracy per batch\n",
    "    test_acc = test_acc / (val_dataloader.batch_size*len(val_dataloader))\n",
    "    print(test_acc.item())\n"
   ]
  },
  {
   "cell_type": "code",
   "execution_count": 134,
   "metadata": {},
   "outputs": [
    {
     "name": "stdout",
     "output_type": "stream",
     "text": [
      "Let's begin\n",
      "0.0\n"
     ]
    }
   ],
   "source": [
    "print(\"Let's begin\")\n",
    "test_our_model(val_dataloader, model.float())  #ça marche"
   ]
  },
  {
   "cell_type": "code",
   "execution_count": 135,
   "metadata": {},
   "outputs": [],
   "source": [
    "loss_fn = nn.CrossEntropyLoss()\n",
    "optimizer_adam = torch.optim.Adam(params=model.parameters(), lr=0.001)\n",
    "optimizer_sgd = torch.optim.SGD(model.parameters(), lr=0.1)\n",
    "\n",
    "nbr_epochs: int = 20"
   ]
  },
  {
   "cell_type": "code",
   "execution_count": 136,
   "metadata": {},
   "outputs": [],
   "source": [
    "from tqdm import tqdm"
   ]
  },
  {
   "cell_type": "code",
   "execution_count": 137,
   "metadata": {},
   "outputs": [
    {
     "name": "stdout",
     "output_type": "stream",
     "text": [
      "24\n"
     ]
    }
   ],
   "source": [
    "print(len(train_dataloader))"
   ]
  },
  {
   "cell_type": "code",
   "execution_count": 138,
   "metadata": {},
   "outputs": [],
   "source": [
    "def train(optimizer):\n",
    "    # Put model in train mode\n",
    "    model.train()\n",
    "\n",
    "    # Setup train loss and train accuracy values\n",
    "    train_loss, train_acc = 0, 0\n",
    "    for epoch in tqdm(range(nbr_epochs)):\n",
    "        # Loop through data loader data batches\n",
    "        for i, value in enumerate(train_dataloader):\n",
    "            if i %100 == 0:\n",
    "                print(i)\n",
    "\n",
    "            X, y = value[0], value[1]\n",
    "            \n",
    "            # 1. Forward pass\n",
    "            #X_flatten = X.flatten()\n",
    "            #X_flatten = X_flatten.float()\n",
    "            y_pred = model(X.float())\n",
    "\n",
    "            # 2. Calculate  and accumulate loss\n",
    "            loss = loss_fn(y_pred.float(), y)\n",
    "            train_loss += loss.item()\n",
    "\n",
    "            # 3. Optimizer zero grad\n",
    "            optimizer.zero_grad()\n",
    "\n",
    "            # 4. Loss backward\n",
    "            loss.backward()\n",
    "\n",
    "            # 5. Optimizer step\n",
    "            optimizer.step()\n",
    "\n",
    "            # Calculate and accumulate accuracy metric across all batches\n",
    "            y_pred_class = y_pred.argmax()\n",
    "            train_acc += (y_pred_class == y).sum()\n",
    "\n",
    "        # Adjust metrics to get average loss and accuracy per batch\n",
    "        train_loss = train_loss / (train_dataloader.batch_size * len(train_dataloader))\n",
    "        train_acc = train_acc / (train_dataloader.batch_size * len(train_dataloader))\n",
    "        print(\n",
    "            f\"epoch {epoch+1}/{nbr_epochs},\"\n",
    "            f\" train_loss = {train_loss:.2e},\"\n",
    "            f\" train_acc = {100*train_acc.item():.2f}%\"\n",
    "        )\n"
   ]
  },
  {
   "cell_type": "code",
   "execution_count": 143,
   "metadata": {},
   "outputs": [],
   "source": [
    "def train_loop(dataloader, model, loss_fn, optimizer):\n",
    "    size = len(dataloader.dataset)\n",
    "    for batch, (X, y) in enumerate(dataloader):\n",
    "        # Compute prediction and loss\n",
    "        pred = model(X.float())\n",
    "        loss = loss_fn(pred, y) #pred.float() ?\n",
    "\n",
    "        # Backpropagation\n",
    "        optimizer.zero_grad()\n",
    "        loss.backward()\n",
    "        optimizer.step()\n",
    "\n",
    "        if batch % 100 == 0:\n",
    "            loss, current = loss.item(), batch * len(X)\n",
    "            y_pred_class = pred.argmax()\n",
    "            train_acc = (y_pred_class == y).sum()\n",
    "            print(f\"loss: {loss:>7f}, accuracy: {train_acc}  [{current:>5d}/{size:>5d}]\")\n",
    "\n",
    "\n",
    "def validation_loop(dataloader, model, loss_fn):\n",
    "    size = len(dataloader.dataset)\n",
    "    num_batches = len(dataloader)\n",
    "    test_loss, correct = 0, 0\n",
    "    y_val, y_pred = [], []\n",
    "\n",
    "    with torch.no_grad():\n",
    "        for X, y in dataloader:\n",
    "            y_val.extend(y.tolist())\n",
    "            pred = model(X.float())\n",
    "            y_pred.extend(pred.argmax(1).tolist())\n",
    "            test_loss += loss_fn(pred, y).item()\n",
    "            correct += (pred.argmax(1) == y).type(torch.float).sum().item()\n",
    "\n",
    "    print(f\"pred = {y_pred}\")\n",
    "    print(f\"true = {y_val}\")\n",
    "\n",
    "    \n",
    "\n",
    "    test_loss /= num_batches\n",
    "    correct /= size\n",
    "    print(f\"Test Error: \\n Accuracy: {(100*correct):>0.1f}%, Avg loss: {test_loss:>8f} \\n\")\n",
    "    scores = {'balanced_accuracy': balanced_accuracy_score(y_val, y_pred),\n",
    "            'cohen_kappa': cohen_kappa_score(y_val, y_pred),\n",
    "            'macro_f1': f1_score(y_val, y_pred,average ='macro')}\n",
    "    print(scores)\n",
    "\n",
    "    #cm = confusion_matrix(y_true=y_val, y_pred=y_pred)\n",
    "    #disp = ConfusionMatrixDisplay(confusion_matrix=cm)\n",
    "    #disp.plot()"
   ]
  },
  {
   "cell_type": "code",
   "execution_count": 144,
   "metadata": {},
   "outputs": [
    {
     "name": "stdout",
     "output_type": "stream",
     "text": [
      "Epoch 1\n",
      "-------------------------------\n",
      "loss: 0.142602, accuracy: 0  [    0/  194]\n",
      "pred = [0, 0, 0, 0, 0, 0, 0, 0, 0, 0, 0, 0, 0, 0, 0, 0, 0, 0, 0, 0, 0, 0, 0, 0, 0, 0, 0, 0, 0, 0, 0, 0, 0, 0, 0, 1, 0, 0, 0, 0, 0, 0, 0, 0, 0, 0, 0, 0]\n",
      "true = [0, 0, 0, 0, 0, 0, 0, 0, 0, 0, 0, 0, 0, 0, 0, 0, 0, 0, 0, 0, 0, 0, 1, 0, 0, 0, 0, 0, 0, 0, 0, 0, 0, 0, 0, 0, 0, 0, 0, 0, 0, 0, 0, 0, 0, 0, 0, 0]\n",
      "Test Error: \n",
      " Accuracy: 93.9%, Avg loss: 0.323930 \n",
      "\n",
      "{'balanced_accuracy': 0.48936170212765956, 'cohen_kappa': -0.021276595744680993, 'macro_f1': 0.48936170212765956}\n"
     ]
    },
    {
     "name": "stderr",
     "output_type": "stream",
     "text": [
      "\n",
      "Bad key text.latex.preview in file c:\\Users\\coust\\anaconda3\\envs\\i2dl\\lib\\site-packages\\matplotlib\\mpl-data\\stylelib\\_classic_test.mplstyle, line 123 ('text.latex.preview : False')\n",
      "You probably need to get an updated matplotlibrc file from\n",
      "https://github.com/matplotlib/matplotlib/blob/v3.6.2/matplotlibrc.template\n",
      "or from the matplotlib source distribution\n",
      "\n",
      "Bad key mathtext.fallback_to_cm in file c:\\Users\\coust\\anaconda3\\envs\\i2dl\\lib\\site-packages\\matplotlib\\mpl-data\\stylelib\\_classic_test.mplstyle, line 155 ('mathtext.fallback_to_cm : True  # When True, use symbols from the Computer Modern')\n",
      "You probably need to get an updated matplotlibrc file from\n",
      "https://github.com/matplotlib/matplotlib/blob/v3.6.2/matplotlibrc.template\n",
      "or from the matplotlib source distribution\n",
      "\n",
      "Bad key savefig.jpeg_quality in file c:\\Users\\coust\\anaconda3\\envs\\i2dl\\lib\\site-packages\\matplotlib\\mpl-data\\stylelib\\_classic_test.mplstyle, line 418 ('savefig.jpeg_quality: 95       # when a jpeg is saved, the default quality parameter.')\n",
      "You probably need to get an updated matplotlibrc file from\n",
      "https://github.com/matplotlib/matplotlib/blob/v3.6.2/matplotlibrc.template\n",
      "or from the matplotlib source distribution\n",
      "\n",
      "Bad key keymap.all_axes in file c:\\Users\\coust\\anaconda3\\envs\\i2dl\\lib\\site-packages\\matplotlib\\mpl-data\\stylelib\\_classic_test.mplstyle, line 466 ('keymap.all_axes : a                 # enable all axes')\n",
      "You probably need to get an updated matplotlibrc file from\n",
      "https://github.com/matplotlib/matplotlib/blob/v3.6.2/matplotlibrc.template\n",
      "or from the matplotlib source distribution\n",
      "\n",
      "Bad key animation.avconv_path in file c:\\Users\\coust\\anaconda3\\envs\\i2dl\\lib\\site-packages\\matplotlib\\mpl-data\\stylelib\\_classic_test.mplstyle, line 477 ('animation.avconv_path: avconv     # Path to avconv binary. Without full path')\n",
      "You probably need to get an updated matplotlibrc file from\n",
      "https://github.com/matplotlib/matplotlib/blob/v3.6.2/matplotlibrc.template\n",
      "or from the matplotlib source distribution\n",
      "\n",
      "Bad key animation.avconv_args in file c:\\Users\\coust\\anaconda3\\envs\\i2dl\\lib\\site-packages\\matplotlib\\mpl-data\\stylelib\\_classic_test.mplstyle, line 479 ('animation.avconv_args:            # Additional arguments to pass to avconv')\n",
      "You probably need to get an updated matplotlibrc file from\n",
      "https://github.com/matplotlib/matplotlib/blob/v3.6.2/matplotlibrc.template\n",
      "or from the matplotlib source distribution\n"
     ]
    },
    {
     "name": "stdout",
     "output_type": "stream",
     "text": [
      "Epoch 2\n",
      "-------------------------------\n",
      "loss: 0.318090, accuracy: 0  [    0/  194]\n",
      "pred = [0, 0, 0, 0, 0, 0, 0, 0, 0, 0, 0, 0, 0, 0, 0, 0, 0, 0, 0, 0, 0, 0, 0, 0, 0, 0, 0, 0, 0, 0, 0, 0, 0, 0, 0, 0, 0, 0, 0, 0, 0, 0, 0, 0, 0, 0, 0, 0]\n",
      "true = [0, 0, 0, 0, 0, 0, 0, 0, 0, 0, 0, 0, 1, 0, 0, 0, 0, 0, 0, 0, 0, 0, 0, 0, 0, 0, 0, 0, 0, 0, 0, 0, 0, 0, 0, 0, 0, 0, 0, 0, 0, 0, 0, 0, 0, 0, 0, 0]\n",
      "Test Error: \n",
      " Accuracy: 95.9%, Avg loss: 0.347786 \n",
      "\n",
      "{'balanced_accuracy': 0.5, 'cohen_kappa': 0.0, 'macro_f1': 0.4947368421052632}\n",
      "Epoch 3\n",
      "-------------------------------\n",
      "loss: 0.065128, accuracy: 0  [    0/  194]\n",
      "pred = [0, 0, 0, 0, 0, 0, 0, 0, 0, 0, 0, 0, 0, 0, 0, 0, 0, 0, 0, 0, 0, 0, 0, 0, 0, 0, 0, 0, 0, 0, 0, 0, 0, 0, 0, 0, 0, 0, 0, 0, 0, 0, 0, 0, 0, 0, 0, 0]\n",
      "true = [0, 0, 0, 0, 0, 0, 0, 0, 0, 0, 0, 0, 0, 0, 0, 0, 0, 0, 0, 0, 0, 0, 0, 0, 0, 0, 0, 0, 0, 0, 0, 0, 0, 0, 0, 0, 0, 0, 0, 0, 0, 0, 0, 0, 0, 1, 0, 0]\n",
      "Test Error: \n",
      " Accuracy: 95.9%, Avg loss: 0.271936 \n",
      "\n",
      "{'balanced_accuracy': 0.5, 'cohen_kappa': 0.0, 'macro_f1': 0.4947368421052632}\n",
      "Epoch 4\n",
      "-------------------------------\n",
      "loss: 0.338336, accuracy: 0  [    0/  194]\n",
      "pred = [0, 0, 0, 0, 0, 0, 0, 0, 0, 0, 0, 0, 0, 0, 0, 0, 0, 0, 0, 0, 0, 0, 0, 0, 0, 0, 0, 0, 0, 0, 0, 0, 0, 0, 0, 0, 0, 0, 0, 0, 0, 0, 0, 0, 0, 0, 0, 0]\n",
      "true = [0, 0, 0, 0, 0, 0, 0, 1, 0, 0, 0, 0, 0, 0, 0, 0, 0, 0, 0, 0, 0, 0, 0, 0, 0, 0, 0, 0, 0, 0, 0, 0, 0, 0, 0, 0, 0, 0, 0, 0, 0, 0, 0, 0, 0, 0, 0, 0]\n",
      "Test Error: \n",
      " Accuracy: 95.9%, Avg loss: 0.207529 \n",
      "\n",
      "{'balanced_accuracy': 0.5, 'cohen_kappa': 0.0, 'macro_f1': 0.4947368421052632}\n",
      "Epoch 5\n",
      "-------------------------------\n",
      "loss: 0.258241, accuracy: 0  [    0/  194]\n",
      "pred = [0, 0, 0, 0, 0, 0, 0, 0, 0, 0, 0, 0, 0, 0, 0, 0, 0, 0, 0, 0, 0, 0, 0, 0, 0, 0, 0, 0, 0, 0, 0, 0, 0, 0, 0, 0, 0, 0, 0, 0, 0, 0, 0, 0, 0, 0, 0, 0]\n",
      "true = [0, 0, 0, 0, 0, 0, 0, 0, 0, 0, 0, 0, 0, 0, 1, 0, 0, 0, 0, 0, 0, 0, 0, 0, 0, 0, 0, 0, 0, 0, 0, 0, 0, 0, 0, 0, 0, 0, 0, 0, 0, 0, 0, 0, 0, 0, 0, 0]\n",
      "Test Error: \n",
      " Accuracy: 95.9%, Avg loss: 0.271740 \n",
      "\n",
      "{'balanced_accuracy': 0.5, 'cohen_kappa': 0.0, 'macro_f1': 0.4947368421052632}\n",
      "Epoch 6\n",
      "-------------------------------\n",
      "loss: 0.381878, accuracy: 0  [    0/  194]\n"
     ]
    },
    {
     "ename": "KeyboardInterrupt",
     "evalue": "",
     "output_type": "error",
     "traceback": [
      "\u001b[1;31m---------------------------------------------------------------------------\u001b[0m",
      "\u001b[1;31mKeyboardInterrupt\u001b[0m                         Traceback (most recent call last)",
      "Cell \u001b[1;32mIn[144], line 7\u001b[0m\n\u001b[0;32m      5\u001b[0m \u001b[39mfor\u001b[39;00m t \u001b[39min\u001b[39;00m \u001b[39mrange\u001b[39m(epochs):\n\u001b[0;32m      6\u001b[0m     \u001b[39mprint\u001b[39m(\u001b[39mf\u001b[39m\u001b[39m\"\u001b[39m\u001b[39mEpoch \u001b[39m\u001b[39m{\u001b[39;00mt\u001b[39m+\u001b[39m\u001b[39m1\u001b[39m\u001b[39m}\u001b[39;00m\u001b[39m\\n\u001b[39;00m\u001b[39m-------------------------------\u001b[39m\u001b[39m\"\u001b[39m)\n\u001b[1;32m----> 7\u001b[0m     train_loop(train_dataloader, model, loss_fn, optimizer)\n\u001b[0;32m      8\u001b[0m     validation_loop(val_dataloader, model, loss_fn)\n\u001b[0;32m      9\u001b[0m \u001b[39mprint\u001b[39m(\u001b[39m\"\u001b[39m\u001b[39mDone!\u001b[39m\u001b[39m\"\u001b[39m)\n",
      "Cell \u001b[1;32mIn[143], line 3\u001b[0m, in \u001b[0;36mtrain_loop\u001b[1;34m(dataloader, model, loss_fn, optimizer)\u001b[0m\n\u001b[0;32m      1\u001b[0m \u001b[39mdef\u001b[39;00m \u001b[39mtrain_loop\u001b[39m(dataloader, model, loss_fn, optimizer):\n\u001b[0;32m      2\u001b[0m     size \u001b[39m=\u001b[39m \u001b[39mlen\u001b[39m(dataloader\u001b[39m.\u001b[39mdataset)\n\u001b[1;32m----> 3\u001b[0m     \u001b[39mfor\u001b[39;00m batch, (X, y) \u001b[39min\u001b[39;00m \u001b[39menumerate\u001b[39m(dataloader):\n\u001b[0;32m      4\u001b[0m         \u001b[39m# Compute prediction and loss\u001b[39;00m\n\u001b[0;32m      5\u001b[0m         pred \u001b[39m=\u001b[39m model(X\u001b[39m.\u001b[39mfloat())\n\u001b[0;32m      6\u001b[0m         loss \u001b[39m=\u001b[39m loss_fn(pred, y) \u001b[39m#pred.float() ?\u001b[39;00m\n",
      "File \u001b[1;32mc:\\Users\\coust\\anaconda3\\envs\\i2dl\\lib\\site-packages\\torch\\utils\\data\\dataloader.py:628\u001b[0m, in \u001b[0;36m_BaseDataLoaderIter.__next__\u001b[1;34m(self)\u001b[0m\n\u001b[0;32m    625\u001b[0m \u001b[39mif\u001b[39;00m \u001b[39mself\u001b[39m\u001b[39m.\u001b[39m_sampler_iter \u001b[39mis\u001b[39;00m \u001b[39mNone\u001b[39;00m:\n\u001b[0;32m    626\u001b[0m     \u001b[39m# TODO(https://github.com/pytorch/pytorch/issues/76750)\u001b[39;00m\n\u001b[0;32m    627\u001b[0m     \u001b[39mself\u001b[39m\u001b[39m.\u001b[39m_reset()  \u001b[39m# type: ignore[call-arg]\u001b[39;00m\n\u001b[1;32m--> 628\u001b[0m data \u001b[39m=\u001b[39m \u001b[39mself\u001b[39;49m\u001b[39m.\u001b[39;49m_next_data()\n\u001b[0;32m    629\u001b[0m \u001b[39mself\u001b[39m\u001b[39m.\u001b[39m_num_yielded \u001b[39m+\u001b[39m\u001b[39m=\u001b[39m \u001b[39m1\u001b[39m\n\u001b[0;32m    630\u001b[0m \u001b[39mif\u001b[39;00m \u001b[39mself\u001b[39m\u001b[39m.\u001b[39m_dataset_kind \u001b[39m==\u001b[39m _DatasetKind\u001b[39m.\u001b[39mIterable \u001b[39mand\u001b[39;00m \\\n\u001b[0;32m    631\u001b[0m         \u001b[39mself\u001b[39m\u001b[39m.\u001b[39m_IterableDataset_len_called \u001b[39mis\u001b[39;00m \u001b[39mnot\u001b[39;00m \u001b[39mNone\u001b[39;00m \u001b[39mand\u001b[39;00m \\\n\u001b[0;32m    632\u001b[0m         \u001b[39mself\u001b[39m\u001b[39m.\u001b[39m_num_yielded \u001b[39m>\u001b[39m \u001b[39mself\u001b[39m\u001b[39m.\u001b[39m_IterableDataset_len_called:\n",
      "File \u001b[1;32mc:\\Users\\coust\\anaconda3\\envs\\i2dl\\lib\\site-packages\\torch\\utils\\data\\dataloader.py:671\u001b[0m, in \u001b[0;36m_SingleProcessDataLoaderIter._next_data\u001b[1;34m(self)\u001b[0m\n\u001b[0;32m    669\u001b[0m \u001b[39mdef\u001b[39;00m \u001b[39m_next_data\u001b[39m(\u001b[39mself\u001b[39m):\n\u001b[0;32m    670\u001b[0m     index \u001b[39m=\u001b[39m \u001b[39mself\u001b[39m\u001b[39m.\u001b[39m_next_index()  \u001b[39m# may raise StopIteration\u001b[39;00m\n\u001b[1;32m--> 671\u001b[0m     data \u001b[39m=\u001b[39m \u001b[39mself\u001b[39;49m\u001b[39m.\u001b[39;49m_dataset_fetcher\u001b[39m.\u001b[39;49mfetch(index)  \u001b[39m# may raise StopIteration\u001b[39;00m\n\u001b[0;32m    672\u001b[0m     \u001b[39mif\u001b[39;00m \u001b[39mself\u001b[39m\u001b[39m.\u001b[39m_pin_memory:\n\u001b[0;32m    673\u001b[0m         data \u001b[39m=\u001b[39m _utils\u001b[39m.\u001b[39mpin_memory\u001b[39m.\u001b[39mpin_memory(data, \u001b[39mself\u001b[39m\u001b[39m.\u001b[39m_pin_memory_device)\n",
      "File \u001b[1;32mc:\\Users\\coust\\anaconda3\\envs\\i2dl\\lib\\site-packages\\torch\\utils\\data\\_utils\\fetch.py:58\u001b[0m, in \u001b[0;36m_MapDatasetFetcher.fetch\u001b[1;34m(self, possibly_batched_index)\u001b[0m\n\u001b[0;32m     56\u001b[0m         data \u001b[39m=\u001b[39m \u001b[39mself\u001b[39m\u001b[39m.\u001b[39mdataset\u001b[39m.\u001b[39m__getitems__(possibly_batched_index)\n\u001b[0;32m     57\u001b[0m     \u001b[39melse\u001b[39;00m:\n\u001b[1;32m---> 58\u001b[0m         data \u001b[39m=\u001b[39m [\u001b[39mself\u001b[39m\u001b[39m.\u001b[39mdataset[idx] \u001b[39mfor\u001b[39;00m idx \u001b[39min\u001b[39;00m possibly_batched_index]\n\u001b[0;32m     59\u001b[0m \u001b[39melse\u001b[39;00m:\n\u001b[0;32m     60\u001b[0m     data \u001b[39m=\u001b[39m \u001b[39mself\u001b[39m\u001b[39m.\u001b[39mdataset[possibly_batched_index]\n",
      "File \u001b[1;32mc:\\Users\\coust\\anaconda3\\envs\\i2dl\\lib\\site-packages\\torch\\utils\\data\\_utils\\fetch.py:58\u001b[0m, in \u001b[0;36m<listcomp>\u001b[1;34m(.0)\u001b[0m\n\u001b[0;32m     56\u001b[0m         data \u001b[39m=\u001b[39m \u001b[39mself\u001b[39m\u001b[39m.\u001b[39mdataset\u001b[39m.\u001b[39m__getitems__(possibly_batched_index)\n\u001b[0;32m     57\u001b[0m     \u001b[39melse\u001b[39;00m:\n\u001b[1;32m---> 58\u001b[0m         data \u001b[39m=\u001b[39m [\u001b[39mself\u001b[39;49m\u001b[39m.\u001b[39;49mdataset[idx] \u001b[39mfor\u001b[39;00m idx \u001b[39min\u001b[39;00m possibly_batched_index]\n\u001b[0;32m     59\u001b[0m \u001b[39melse\u001b[39;00m:\n\u001b[0;32m     60\u001b[0m     data \u001b[39m=\u001b[39m \u001b[39mself\u001b[39m\u001b[39m.\u001b[39mdataset[possibly_batched_index]\n",
      "Cell \u001b[1;32mIn[106], line 26\u001b[0m, in \u001b[0;36mCustomDataset.__getitem__\u001b[1;34m(self, idx)\u001b[0m\n\u001b[0;32m     23\u001b[0m \u001b[39mdef\u001b[39;00m \u001b[39m__getitem__\u001b[39m(\u001b[39mself\u001b[39m, idx):\n\u001b[0;32m     25\u001b[0m   img_path \u001b[39m=\u001b[39m os\u001b[39m.\u001b[39mpath\u001b[39m.\u001b[39mjoin(\u001b[39mself\u001b[39m\u001b[39m.\u001b[39mimg_dir, \u001b[39mself\u001b[39m\u001b[39m.\u001b[39mimg_labels\u001b[39m.\u001b[39miloc[idx][\u001b[39m\"\u001b[39m\u001b[39mfile_name\u001b[39m\u001b[39m\"\u001b[39m])\n\u001b[1;32m---> 26\u001b[0m   image \u001b[39m=\u001b[39m np\u001b[39m.\u001b[39msqueeze(np\u001b[39m.\u001b[39;49masanyarray(nib\u001b[39m.\u001b[39;49mload(img_path)\u001b[39m.\u001b[39;49mdataobj))\n\u001b[0;32m     27\u001b[0m   image_cropped \u001b[39m=\u001b[39m image[\u001b[39m2\u001b[39m:\u001b[39m66\u001b[39m, \u001b[39m3\u001b[39m:\u001b[39m67\u001b[39m, \u001b[39m3\u001b[39m:\u001b[39m67\u001b[39m]\n\u001b[0;32m     29\u001b[0m   label \u001b[39m=\u001b[39m \u001b[39mself\u001b[39m\u001b[39m.\u001b[39mimg_labels\u001b[39m.\u001b[39miloc[idx][\u001b[39m'\u001b[39m\u001b[39mPathologie_cardiaque_3_new\u001b[39m\u001b[39m'\u001b[39m]\n",
      "File \u001b[1;32mc:\\Users\\coust\\anaconda3\\envs\\i2dl\\lib\\site-packages\\nibabel\\arrayproxy.py:426\u001b[0m, in \u001b[0;36mArrayProxy.__array__\u001b[1;34m(self, dtype)\u001b[0m\n\u001b[0;32m    405\u001b[0m \u001b[39mdef\u001b[39;00m \u001b[39m__array__\u001b[39m(\u001b[39mself\u001b[39m, dtype\u001b[39m=\u001b[39m\u001b[39mNone\u001b[39;00m):\n\u001b[0;32m    406\u001b[0m     \u001b[39m\"\"\"Read data from file and apply scaling, casting to ``dtype``\u001b[39;00m\n\u001b[0;32m    407\u001b[0m \n\u001b[0;32m    408\u001b[0m \u001b[39m    If ``dtype`` is unspecified, the dtype of the returned array is the\u001b[39;00m\n\u001b[1;32m   (...)\u001b[0m\n\u001b[0;32m    424\u001b[0m \u001b[39m        Scaled image data with type `dtype`.\u001b[39;00m\n\u001b[0;32m    425\u001b[0m \u001b[39m    \"\"\"\u001b[39;00m\n\u001b[1;32m--> 426\u001b[0m     arr \u001b[39m=\u001b[39m \u001b[39mself\u001b[39;49m\u001b[39m.\u001b[39;49m_get_scaled(dtype\u001b[39m=\u001b[39;49mdtype, slicer\u001b[39m=\u001b[39;49m())\n\u001b[0;32m    427\u001b[0m     \u001b[39mif\u001b[39;00m dtype \u001b[39mis\u001b[39;00m \u001b[39mnot\u001b[39;00m \u001b[39mNone\u001b[39;00m:\n\u001b[0;32m    428\u001b[0m         arr \u001b[39m=\u001b[39m arr\u001b[39m.\u001b[39mastype(dtype, copy\u001b[39m=\u001b[39m\u001b[39mFalse\u001b[39;00m)\n",
      "File \u001b[1;32mc:\\Users\\coust\\anaconda3\\envs\\i2dl\\lib\\site-packages\\nibabel\\arrayproxy.py:393\u001b[0m, in \u001b[0;36mArrayProxy._get_scaled\u001b[1;34m(self, dtype, slicer)\u001b[0m\n\u001b[0;32m    391\u001b[0m     scl_inter \u001b[39m=\u001b[39m scl_inter\u001b[39m.\u001b[39mastype(use_dtype)\n\u001b[0;32m    392\u001b[0m \u001b[39m# Read array and upcast as necessary for big slopes, intercepts\u001b[39;00m\n\u001b[1;32m--> 393\u001b[0m scaled \u001b[39m=\u001b[39m apply_read_scaling(\u001b[39mself\u001b[39;49m\u001b[39m.\u001b[39;49m_get_unscaled(slicer\u001b[39m=\u001b[39;49mslicer), scl_slope, scl_inter)\n\u001b[0;32m    394\u001b[0m \u001b[39mif\u001b[39;00m dtype \u001b[39mis\u001b[39;00m \u001b[39mnot\u001b[39;00m \u001b[39mNone\u001b[39;00m:\n\u001b[0;32m    395\u001b[0m     scaled \u001b[39m=\u001b[39m scaled\u001b[39m.\u001b[39mastype(np\u001b[39m.\u001b[39mpromote_types(scaled\u001b[39m.\u001b[39mdtype, dtype), copy\u001b[39m=\u001b[39m\u001b[39mFalse\u001b[39;00m)\n",
      "File \u001b[1;32mc:\\Users\\coust\\anaconda3\\envs\\i2dl\\lib\\site-packages\\nibabel\\arrayproxy.py:362\u001b[0m, in \u001b[0;36mArrayProxy._get_unscaled\u001b[1;34m(self, slicer)\u001b[0m\n\u001b[0;32m    358\u001b[0m \u001b[39mdef\u001b[39;00m \u001b[39m_get_unscaled\u001b[39m(\u001b[39mself\u001b[39m, slicer):\n\u001b[0;32m    359\u001b[0m     \u001b[39mif\u001b[39;00m canonical_slicers(slicer, \u001b[39mself\u001b[39m\u001b[39m.\u001b[39m_shape, \u001b[39mFalse\u001b[39;00m) \u001b[39m==\u001b[39m canonical_slicers(\n\u001b[0;32m    360\u001b[0m         (), \u001b[39mself\u001b[39m\u001b[39m.\u001b[39m_shape, \u001b[39mFalse\u001b[39;00m\n\u001b[0;32m    361\u001b[0m     ):\n\u001b[1;32m--> 362\u001b[0m         \u001b[39mwith\u001b[39;00m \u001b[39mself\u001b[39m\u001b[39m.\u001b[39m_get_fileobj() \u001b[39mas\u001b[39;00m fileobj, \u001b[39mself\u001b[39m\u001b[39m.\u001b[39m_lock:\n\u001b[0;32m    363\u001b[0m             \u001b[39mreturn\u001b[39;00m array_from_file(\n\u001b[0;32m    364\u001b[0m                 \u001b[39mself\u001b[39m\u001b[39m.\u001b[39m_shape,\n\u001b[0;32m    365\u001b[0m                 \u001b[39mself\u001b[39m\u001b[39m.\u001b[39m_dtype,\n\u001b[1;32m   (...)\u001b[0m\n\u001b[0;32m    369\u001b[0m                 mmap\u001b[39m=\u001b[39m\u001b[39mself\u001b[39m\u001b[39m.\u001b[39m_mmap,\n\u001b[0;32m    370\u001b[0m             )\n\u001b[0;32m    371\u001b[0m     \u001b[39mwith\u001b[39;00m \u001b[39mself\u001b[39m\u001b[39m.\u001b[39m_get_fileobj() \u001b[39mas\u001b[39;00m fileobj:\n",
      "File \u001b[1;32mc:\\Users\\coust\\anaconda3\\envs\\i2dl\\lib\\contextlib.py:135\u001b[0m, in \u001b[0;36m_GeneratorContextManager.__enter__\u001b[1;34m(self)\u001b[0m\n\u001b[0;32m    133\u001b[0m \u001b[39mdel\u001b[39;00m \u001b[39mself\u001b[39m\u001b[39m.\u001b[39margs, \u001b[39mself\u001b[39m\u001b[39m.\u001b[39mkwds, \u001b[39mself\u001b[39m\u001b[39m.\u001b[39mfunc\n\u001b[0;32m    134\u001b[0m \u001b[39mtry\u001b[39;00m:\n\u001b[1;32m--> 135\u001b[0m     \u001b[39mreturn\u001b[39;00m \u001b[39mnext\u001b[39;49m(\u001b[39mself\u001b[39;49m\u001b[39m.\u001b[39;49mgen)\n\u001b[0;32m    136\u001b[0m \u001b[39mexcept\u001b[39;00m \u001b[39mStopIteration\u001b[39;00m:\n\u001b[0;32m    137\u001b[0m     \u001b[39mraise\u001b[39;00m \u001b[39mRuntimeError\u001b[39;00m(\u001b[39m\"\u001b[39m\u001b[39mgenerator didn\u001b[39m\u001b[39m'\u001b[39m\u001b[39mt yield\u001b[39m\u001b[39m\"\u001b[39m) \u001b[39mfrom\u001b[39;00m \u001b[39mNone\u001b[39m\n",
      "File \u001b[1;32mc:\\Users\\coust\\anaconda3\\envs\\i2dl\\lib\\site-packages\\nibabel\\arrayproxy.py:355\u001b[0m, in \u001b[0;36mArrayProxy._get_fileobj\u001b[1;34m(self)\u001b[0m\n\u001b[0;32m    353\u001b[0m     \u001b[39myield\u001b[39;00m \u001b[39mself\u001b[39m\u001b[39m.\u001b[39m_opener\n\u001b[0;32m    354\u001b[0m \u001b[39melse\u001b[39;00m:\n\u001b[1;32m--> 355\u001b[0m     \u001b[39mwith\u001b[39;00m openers\u001b[39m.\u001b[39;49mImageOpener(\u001b[39mself\u001b[39;49m\u001b[39m.\u001b[39;49mfile_like, keep_open\u001b[39m=\u001b[39;49m\u001b[39mFalse\u001b[39;49;00m) \u001b[39mas\u001b[39;00m opener:\n\u001b[0;32m    356\u001b[0m         \u001b[39myield\u001b[39;00m opener\n",
      "File \u001b[1;32mc:\\Users\\coust\\anaconda3\\envs\\i2dl\\lib\\site-packages\\nibabel\\openers.py:156\u001b[0m, in \u001b[0;36mOpener.__init__\u001b[1;34m(self, fileish, *args, **kwargs)\u001b[0m\n\u001b[0;32m    153\u001b[0m \u001b[39m# Clear keep_open hint if it is not relevant for the file type\u001b[39;00m\n\u001b[0;32m    154\u001b[0m \u001b[39melse\u001b[39;00m:\n\u001b[0;32m    155\u001b[0m     kwargs\u001b[39m.\u001b[39mpop(\u001b[39m'\u001b[39m\u001b[39mkeep_open\u001b[39m\u001b[39m'\u001b[39m, \u001b[39mNone\u001b[39;00m)\n\u001b[1;32m--> 156\u001b[0m \u001b[39mself\u001b[39m\u001b[39m.\u001b[39mfobj \u001b[39m=\u001b[39m opener(fileish, \u001b[39m*\u001b[39margs, \u001b[39m*\u001b[39m\u001b[39m*\u001b[39mkwargs)\n\u001b[0;32m    157\u001b[0m \u001b[39mself\u001b[39m\u001b[39m.\u001b[39m_name \u001b[39m=\u001b[39m fileish\n\u001b[0;32m    158\u001b[0m \u001b[39mself\u001b[39m\u001b[39m.\u001b[39mme_opened \u001b[39m=\u001b[39m \u001b[39mTrue\u001b[39;00m\n",
      "File \u001b[1;32mc:\\Users\\coust\\anaconda3\\envs\\i2dl\\lib\\site-packages\\nibabel\\openers.py:76\u001b[0m, in \u001b[0;36m_gzip_open\u001b[1;34m(filename, mode, compresslevel, mtime, keep_open)\u001b[0m\n\u001b[0;32m     72\u001b[0m     gzip_file \u001b[39m=\u001b[39m IndexedGzipFile(filename, drop_handles\u001b[39m=\u001b[39m\u001b[39mnot\u001b[39;00m keep_open)\n\u001b[0;32m     74\u001b[0m \u001b[39m# Fall-back to built-in GzipFile\u001b[39;00m\n\u001b[0;32m     75\u001b[0m \u001b[39melse\u001b[39;00m:\n\u001b[1;32m---> 76\u001b[0m     gzip_file \u001b[39m=\u001b[39m DeterministicGzipFile(filename, mode, compresslevel, mtime\u001b[39m=\u001b[39;49mmtime)\n\u001b[0;32m     78\u001b[0m \u001b[39mreturn\u001b[39;00m gzip_file\n",
      "File \u001b[1;32mc:\\Users\\coust\\anaconda3\\envs\\i2dl\\lib\\site-packages\\nibabel\\openers.py:60\u001b[0m, in \u001b[0;36mDeterministicGzipFile.__init__\u001b[1;34m(self, filename, mode, compresslevel, fileobj, mtime)\u001b[0m\n\u001b[0;32m     58\u001b[0m     mode \u001b[39m+\u001b[39m\u001b[39m=\u001b[39m \u001b[39m'\u001b[39m\u001b[39mb\u001b[39m\u001b[39m'\u001b[39m\n\u001b[0;32m     59\u001b[0m \u001b[39mif\u001b[39;00m fileobj \u001b[39mis\u001b[39;00m \u001b[39mNone\u001b[39;00m:\n\u001b[1;32m---> 60\u001b[0m     fileobj \u001b[39m=\u001b[39m \u001b[39mself\u001b[39m\u001b[39m.\u001b[39mmyfileobj \u001b[39m=\u001b[39m \u001b[39mopen\u001b[39;49m(filename, mode \u001b[39mor\u001b[39;49;00m \u001b[39m'\u001b[39;49m\u001b[39mrb\u001b[39;49m\u001b[39m'\u001b[39;49m)\n\u001b[0;32m     61\u001b[0m \u001b[39mreturn\u001b[39;00m \u001b[39msuper\u001b[39m()\u001b[39m.\u001b[39m\u001b[39m__init__\u001b[39m(\n\u001b[0;32m     62\u001b[0m     filename\u001b[39m=\u001b[39m\u001b[39m'\u001b[39m\u001b[39m'\u001b[39m, mode\u001b[39m=\u001b[39mmode, compresslevel\u001b[39m=\u001b[39mcompresslevel, fileobj\u001b[39m=\u001b[39mfileobj, mtime\u001b[39m=\u001b[39mmtime\n\u001b[0;32m     63\u001b[0m )\n",
      "\u001b[1;31mKeyboardInterrupt\u001b[0m: "
     ]
    },
    {
     "data": {
      "image/png": "[encoded data removed]",
      "text/plain": [
       "<Figure size 640x480 with 2 Axes>"
      ]
     },
     "metadata": {},
     "output_type": "display_data"
    },
    {
     "data": {
      "image/png": "[encoded data removed]",
      "text/plain": [
       "<Figure size 640x480 with 2 Axes>"
      ]
     },
     "metadata": {},
     "output_type": "display_data"
    },
    {
     "data": {
      "image/png": "[encoded data removed]",
      "text/plain": [
       "<Figure size 640x480 with 2 Axes>"
      ]
     },
     "metadata": {},
     "output_type": "display_data"
    },
    {
     "data": {
      "image/png": "[encoded data removed]",
      "text/plain": [
       "<Figure size 640x480 with 2 Axes>"
      ]
     },
     "metadata": {},
     "output_type": "display_data"
    },
    {
     "data": {
      "image/png": "[encoded data removed]",
      "text/plain": [
       "<Figure size 640x480 with 2 Axes>"
      ]
     },
     "metadata": {},
     "output_type": "display_data"
    }
   ],
   "source": [
    "loss_fn = nn.CrossEntropyLoss()\n",
    "optimizer = torch.optim.SGD(model.parameters(), lr=0.01)\n",
    "\n",
    "epochs = 10\n",
    "for t in range(epochs):\n",
    "    print(f\"Epoch {t+1}\\n-------------------------------\")\n",
    "    train_loop(train_dataloader, model, loss_fn, optimizer)\n",
    "    validation_loop(val_dataloader, model, loss_fn)\n",
    "print(\"Done!\")"
   ]
  },
  {
   "cell_type": "code",
   "execution_count": null,
   "metadata": {},
   "outputs": [
    {
     "name": "stdout",
     "output_type": "stream",
     "text": [
      "Let's check\n",
      "0.02777777798473835\n"
     ]
    }
   ],
   "source": [
    "print(\"Let's check\")\n",
    "test_our_model(val_dataloader, model.float())  #ça marche"
   ]
  }
 ],
 "metadata": {
  "kernelspec": {
   "display_name": "i2dl",
   "language": "python",
   "name": "python3"
  },
  "language_info": {
   "codemirror_mode": {
    "name": "ipython",
    "version": 3
   },
   "file_extension": ".py",
   "mimetype": "text/x-python",
   "name": "python",
   "nbconvert_exporter": "python",
   "pygments_lexer": "ipython3",
   "version": "3.10.8"
  },
  "orig_nbformat": 4,
  "vscode": {
   "interpreter": {
    "hash": "427ec07b0903158c515e8254e29fd9344f46c617ad357aa59a21c96123d7c17f"
   }
  }
 },
 "nbformat": 4,
 "nbformat_minor": 2
}
